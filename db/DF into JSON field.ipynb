{
 "cells": [
  {
   "cell_type": "code",
   "execution_count": 7,
   "metadata": {},
   "outputs": [],
   "source": [
    "import pandas as pd, numpy as np, json"
   ]
  },
  {
   "cell_type": "code",
   "execution_count": 9,
   "metadata": {},
   "outputs": [
    {
     "name": "stdout",
     "output_type": "stream",
     "text": [
      "<class 'pandas.core.frame.DataFrame'>\n",
      "RangeIndex: 30 entries, 0 to 29\n",
      "Data columns (total 16 columns):\n",
      "observer            10 non-null object\n",
      "phone               30 non-null int64\n",
      "date                30 non-null object\n",
      "site_description    13 non-null object\n",
      "name                30 non-null object\n",
      "site_photo          28 non-null object\n",
      "lat                 30 non-null float64\n",
      "lon                 30 non-null float64\n",
      "altitude            30 non-null float64\n",
      "accuracy            30 non-null int64\n",
      "ring_1:inf_time1    30 non-null float64\n",
      "ring_1:inf_time2    23 non-null float64\n",
      "ring_1:inf_time3    6 non-null float64\n",
      "ring_1:inf_time4    1 non-null float64\n",
      "geometry            30 non-null object\n",
      "pk                  30 non-null int64\n",
      "dtypes: float64(7), int64(3), object(6)\n",
      "memory usage: 3.8+ KB\n"
     ]
    }
   ],
   "source": [
    "df = pd.read_csv('infiltration_odk.csv')\n",
    "df.info()"
   ]
  },
  {
   "cell_type": "code",
   "execution_count": 10,
   "metadata": {},
   "outputs": [
    {
     "data": {
      "text/plain": [
       "observer             object\n",
       "phone                 int64\n",
       "date                 object\n",
       "site_description     object\n",
       "name                 object\n",
       "site_photo           object\n",
       "lat                 float64\n",
       "lon                 float64\n",
       "altitude            float64\n",
       "accuracy              int64\n",
       "ring_1:inf_time1    float64\n",
       "ring_1:inf_time2    float64\n",
       "ring_1:inf_time3    float64\n",
       "ring_1:inf_time4    float64\n",
       "geometry             object\n",
       "site_id               int64\n",
       "observer_id           int64\n",
       "type_id               int64\n",
       "parentobs_id         object\n",
       "entered              object\n",
       "dtype: object"
      ]
     },
     "execution_count": 10,
     "metadata": {},
     "output_type": "execute_result"
    }
   ],
   "source": [
    "#add foreign key fields for atlasbiowork Observation model\n",
    "\n",
    "df['observer_id'] = 1 # this is my observer_id\n",
    "df.rename(index=str, columns={'pk':'site_id'}, inplace=True)\n",
    "df['type_id'] = 19 #for infiltration\n",
    "df['parentobs_id'] = \n",
    "df['entered'] = \"2018-01-15 00:00:00.000\" #arbitrary for loading data\n",
    "df.dtypes"
   ]
  },
  {
   "cell_type": "code",
   "execution_count": null,
   "metadata": {},
   "outputs": [],
   "source": [
    "#df=pd.read_csv('C:/Users/Peter/Documents/scc/challenge/obs_types/soil_samples.csv',parse_dates = ['date'])\n",
    "sampleJSONfield = ['top_cm', 'bottom_cm', 'description','num_composited','sampleID','date','samplers']\n",
    "jsonvalues= df[analysis_keys]\n",
    "jsonvalues.columns"
   ]
  },
  {
   "cell_type": "code",
   "execution_count": null,
   "metadata": {},
   "outputs": [],
   "source": [
    "#create dataframe with same length to hold JSON field\n",
    "json = pd.DataFrame(index = df.index, columns = ['values'])\n"
   ]
  },
  {
   "cell_type": "code",
   "execution_count": null,
   "metadata": {},
   "outputs": [],
   "source": [
    "for i, row in jsonvalues.iterrows():\n",
    "    json.values[i]= jsonvalues.loc[i].to_json()\n",
    "    #print(values.values[i])"
   ]
  },
  {
   "cell_type": "code",
   "execution_count": null,
   "metadata": {},
   "outputs": [],
   "source": [
    "#now we create a df with all fields, including the JSON values field\n",
    "merged = df.merge(json, left_index=True, right_index=True)\n"
   ]
  },
  {
   "cell_type": "code",
   "execution_count": null,
   "metadata": {},
   "outputs": [],
   "source": [
    "#save it for good measure\n",
    "merged.to_csv('analysisNEW.csv', index=False)"
   ]
  }
 ],
 "metadata": {
  "kernelspec": {
   "display_name": "Django Shell-Plus",
   "language": "python",
   "name": "django_extensions"
  },
  "language_info": {
   "codemirror_mode": {
    "name": "ipython",
    "version": 3
   },
   "file_extension": ".py",
   "mimetype": "text/x-python",
   "name": "python",
   "nbconvert_exporter": "python",
   "pygments_lexer": "ipython3",
   "version": "3.5.2"
  }
 },
 "nbformat": 4,
 "nbformat_minor": 2
}
