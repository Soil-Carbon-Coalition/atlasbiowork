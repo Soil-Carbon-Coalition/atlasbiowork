{
 "cells": [
  {
   "cell_type": "markdown",
   "metadata": {},
   "source": [
    "## Geometry is tricky. Geodjango points must be made from tuples."
   ]
  },
  {
   "cell_type": "code",
   "execution_count": 91,
   "metadata": {},
   "outputs": [
    {
     "data": {
      "text/html": [
       "<div>\n",
       "<style scoped>\n",
       "    .dataframe tbody tr th:only-of-type {\n",
       "        vertical-align: middle;\n",
       "    }\n",
       "\n",
       "    .dataframe tbody tr th {\n",
       "        vertical-align: top;\n",
       "    }\n",
       "\n",
       "    .dataframe thead th {\n",
       "        text-align: right;\n",
       "    }\n",
       "</style>\n",
       "<table border=\"1\" class=\"dataframe\">\n",
       "  <thead>\n",
       "    <tr style=\"text-align: right;\">\n",
       "      <th></th>\n",
       "      <th>accuracy</th>\n",
       "      <th>geometry</th>\n",
       "      <th>id</th>\n",
       "      <th>name</th>\n",
       "    </tr>\n",
       "  </thead>\n",
       "  <tbody>\n",
       "    <tr>\n",
       "      <th>0</th>\n",
       "      <td>6.0</td>\n",
       "      <td>[-121.688643, 36.936418]</td>\n",
       "      <td>864</td>\n",
       "      <td>Kelly-Thompson</td>\n",
       "    </tr>\n",
       "    <tr>\n",
       "      <th>1</th>\n",
       "      <td>4.0</td>\n",
       "      <td>[-119.20133, 36.20894]</td>\n",
       "      <td>863</td>\n",
       "      <td>HWPP2</td>\n",
       "    </tr>\n",
       "    <tr>\n",
       "      <th>2</th>\n",
       "      <td>4.0</td>\n",
       "      <td>[-116.863098, 32.697219]</td>\n",
       "      <td>862</td>\n",
       "      <td>P7</td>\n",
       "    </tr>\n",
       "    <tr>\n",
       "      <th>3</th>\n",
       "      <td>4.0</td>\n",
       "      <td>[-118.798458, 36.162859]</td>\n",
       "      <td>861</td>\n",
       "      <td>P1Lower</td>\n",
       "    </tr>\n",
       "    <tr>\n",
       "      <th>4</th>\n",
       "      <td>4.0</td>\n",
       "      <td>[-119.97637, 36.44335]</td>\n",
       "      <td>860</td>\n",
       "      <td>Ayala1</td>\n",
       "    </tr>\n",
       "  </tbody>\n",
       "</table>\n",
       "</div>"
      ],
      "text/plain": [
       "   accuracy                  geometry   id            name\n",
       "0       6.0  [-121.688643, 36.936418]  864  Kelly-Thompson\n",
       "1       4.0    [-119.20133, 36.20894]  863           HWPP2\n",
       "2       4.0  [-116.863098, 32.697219]  862              P7\n",
       "3       4.0  [-118.798458, 36.162859]  861         P1Lower\n",
       "4       4.0    [-119.97637, 36.44335]  860          Ayala1"
      ]
     },
     "execution_count": 91,
     "metadata": {},
     "output_type": "execute_result"
    }
   ],
   "source": [
    "import pandas as pd\n",
    "from django.contrib.gis.geos import GEOSGeometry, LineString, Point\n",
    "from obs.models import Observation, ObservationType, Site\n",
    "sites = pd.DataFrame(list(Site.objects.all()\n",
    "                       .values()))\n",
    "sites.head()"
   ]
  },
  {
   "cell_type": "code",
   "execution_count": 93,
   "metadata": {},
   "outputs": [
    {
     "data": {
      "text/plain": [
       "Index(['observer', 'phone', 'generated_note_name_4', 'date', 'transect',\n",
       "       'transect_distance', 'site_description', 'site_photo',\n",
       "       'geopoint:Latitude', 'geopoint:Longitude', 'geopoint:Altitude',\n",
       "       'geopoint:Accuracy', 'ring_1:inf_time1', 'ring_1:inf_time2',\n",
       "       'ring_1:inf_time3', 'ring_1:inf_time4', 'meta:instanceID',\n",
       "       'meta:instanceName'],\n",
       "      dtype='object')"
      ]
     },
     "execution_count": 93,
     "metadata": {},
     "output_type": "execute_result"
    }
   ],
   "source": [
    "df = pd.read_csv('Infiltration_results_odk.csv')\n",
    "df.columns\n"
   ]
  },
  {
   "cell_type": "code",
   "execution_count": 97,
   "metadata": {},
   "outputs": [],
   "source": [
    "#must use zip for this, turn into Series, then add to df\n",
    "df['geometry'] = \\\n",
    "pd.Series(Point(xy) for xy in zip(df['geopoint:Longitude'], df['geopoint:Latitude'])).values\n"
   ]
  }
 ],
 "metadata": {
  "kernelspec": {
   "display_name": "Django Shell-Plus",
   "language": "python",
   "name": "django_extensions"
  },
  "language_info": {
   "codemirror_mode": {
    "name": "ipython",
    "version": 3
   },
   "file_extension": ".py",
   "mimetype": "text/x-python",
   "name": "python",
   "nbconvert_exporter": "python",
   "pygments_lexer": "ipython3",
   "version": "3.5.2"
  }
 },
 "nbformat": 4,
 "nbformat_minor": 2
}
