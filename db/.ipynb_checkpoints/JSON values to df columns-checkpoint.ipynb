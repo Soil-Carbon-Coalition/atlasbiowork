{
 "cells": [
  {
   "cell_type": "code",
   "execution_count": 1,
   "metadata": {},
   "outputs": [],
   "source": [
    "import pandas as pd, numpy as np, json\n",
    "from obs.models import Observation"
   ]
  },
  {
   "cell_type": "code",
   "execution_count": 2,
   "metadata": {},
   "outputs": [
    {
     "name": "stdout",
     "output_type": "stream",
     "text": [
      "<class 'pandas.core.frame.DataFrame'>\n",
      "RangeIndex: 5906 entries, 0 to 5905\n",
      "Data columns (total 7 columns):\n",
      "entered         5906 non-null datetime64[ns, UTC]\n",
      "id              5906 non-null int64\n",
      "observer_id     5906 non-null int64\n",
      "parentobs_id    5370 non-null float64\n",
      "site_id         5906 non-null int64\n",
      "type_id         5906 non-null int64\n",
      "values          5906 non-null object\n",
      "dtypes: datetime64[ns, UTC](1), float64(1), int64(4), object(1)\n",
      "memory usage: 323.1+ KB\n"
     ]
    }
   ],
   "source": [
    "df = pd.DataFrame(list(Observation.objects.all().values()))\n",
    "df.info()"
   ]
  },
  {
   "cell_type": "code",
   "execution_count": 20,
   "metadata": {},
   "outputs": [],
   "source": [
    "#generate a spreadsheet for soil analyses\n",
    "plotID = 'FH2'\n",
    "siteID = 850\n",
    "df = pd.DataFrame(list(Observation.objects.filter(site_id=siteID).filter(type_id=33).values()))"
   ]
  },
  {
   "cell_type": "code",
   "execution_count": 21,
   "metadata": {},
   "outputs": [],
   "source": [
    "#this is a slick way to break out the json field (named values) into columns and add to df\n",
    "d = pd.concat([df.drop('values', axis=1), pd.DataFrame(df['values'].tolist())], axis=1)\n",
    "#d = d[['id','site_id','type_id','parentobs_id','entered','observer',\n",
    "       #'label1','value1','label2','value2','label3','value3','start_date','end_date','description',\n",
    "       #'photo1','photo2']]\n",
    "d = d.sort_values(['sampleID','date_analyzed'])\n",
    "d = d[['entered', 'analysis', 'analysisNote', 'date_analyzed', 'lab', 'sampleID', 'unit1','value1',\n",
    "       'unit2','value2', 'unit3', 'value3']]\n",
    "d = d.replace(np.nan,'',regex=True)\n",
    "d.to_csv(plotID + '.csv',index=False)"
   ]
  }
 ],
 "metadata": {
  "kernelspec": {
   "display_name": "Django Shell-Plus",
   "language": "python",
   "name": "django_extensions"
  },
  "language_info": {
   "codemirror_mode": {
    "name": "ipython",
    "version": 3
   },
   "file_extension": ".py",
   "mimetype": "text/x-python",
   "name": "python",
   "nbconvert_exporter": "python",
   "pygments_lexer": "ipython3",
   "version": "3.5.2"
  }
 },
 "nbformat": 4,
 "nbformat_minor": 2
}
