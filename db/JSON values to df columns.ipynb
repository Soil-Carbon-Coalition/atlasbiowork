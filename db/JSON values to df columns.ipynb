{
 "cells": [
  {
   "cell_type": "code",
   "execution_count": 1,
   "metadata": {},
   "outputs": [],
   "source": [
    "import pandas as pd, json"
   ]
  },
  {
   "cell_type": "code",
   "execution_count": null,
   "metadata": {},
   "outputs": [],
   "source": [
    "#this is a slick way to break out the json field (named values) into columns and add to df\n",
    "d = pd.concat([df.drop('values', axis=1), pd.DataFrame(df['values'].tolist())], axis=1)\n",
    "d = d[['id','site_id','type_id','parentobs_id','entered','observer',\n",
    "       'label1','value1','label2','value2','label3','value3','start_date','end_date','description',\n",
    "       'photo1','photo2']]"
   ]
  }
 ],
 "metadata": {
  "kernelspec": {
   "display_name": "Django Shell-Plus",
   "language": "python",
   "name": "django_extensions"
  },
  "language_info": {
   "codemirror_mode": {
    "name": "ipython",
    "version": 3
   },
   "file_extension": ".py",
   "mimetype": "text/x-python",
   "name": "python",
   "nbconvert_exporter": "python",
   "pygments_lexer": "ipython3",
   "version": "3.5.2"
  }
 },
 "nbformat": 4,
 "nbformat_minor": 2
}
