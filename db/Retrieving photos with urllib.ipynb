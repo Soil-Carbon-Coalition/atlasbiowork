{
 "cells": [
  {
   "cell_type": "code",
   "execution_count": 1,
   "metadata": {},
   "outputs": [],
   "source": [
    "import pandas as pd\n",
    "import urllib.request"
   ]
  },
  {
   "cell_type": "code",
   "execution_count": 2,
   "metadata": {},
   "outputs": [
    {
     "data": {
      "text/plain": [
       "Index(['observer', 'phone', 'date', 'site_description', 'name', 'site_photo',\n",
       "       'lat', 'lon', 'altitude', 'accuracy', 'ring_1:inf_time1',\n",
       "       'ring_1:inf_time2', 'ring_1:inf_time3', 'ring_1:inf_time4', 'geometry',\n",
       "       'pk'],\n",
       "      dtype='object')"
      ]
     },
     "execution_count": 2,
     "metadata": {},
     "output_type": "execute_result"
    }
   ],
   "source": [
    "df = pd.read_csv('infiltration_odk.csv')\n",
    "df.columns"
   ]
  },
  {
   "cell_type": "code",
   "execution_count": 3,
   "metadata": {},
   "outputs": [],
   "source": [
    "from obs.models import Observation\n",
    "obs= pd.DataFrame(list(Observation.objects.filter(type_id=19).values()))\n",
    "obs = obs[0:29] #get only the recent entries"
   ]
  },
  {
   "cell_type": "code",
   "execution_count": 4,
   "metadata": {},
   "outputs": [],
   "source": [
    "df = obs.merge(df,left_on='site_id', right_on='pk', how=\"inner\")\n"
   ]
  },
  {
   "cell_type": "code",
   "execution_count": 5,
   "metadata": {},
   "outputs": [],
   "source": [
    "df['filename'] = df['id'].map(str) + '.jpg'"
   ]
  },
  {
   "cell_type": "code",
   "execution_count": 7,
   "metadata": {},
   "outputs": [
    {
     "name": "stdout",
     "output_type": "stream",
     "text": [
      "<class 'pandas.core.frame.DataFrame'>\n",
      "Int64Index: 27 entries, 0 to 28\n",
      "Data columns (total 3 columns):\n",
      "site_photo    27 non-null object\n",
      "id            27 non-null int64\n",
      "filename      27 non-null object\n",
      "dtypes: int64(1), object(2)\n",
      "memory usage: 864.0+ bytes\n"
     ]
    }
   ],
   "source": [
    "df = df[['site_photo','filename']]\n",
    "df = df.dropna() NaNs will wreck iteration\n",
    "df = df.reset_index() #otherwise index has skips\n",
    "df.info()"
   ]
  },
  {
   "cell_type": "code",
   "execution_count": 26,
   "metadata": {},
   "outputs": [],
   "source": [
    "#urlretrieve does not accept headers which are in the url. Must use urlopen\n",
    "for i in range(len(df)):\n",
    "    req = urllib.request.urlopen(df.loc[i,'site_photo'])\n",
    "    f = open(df.loc[i,'filename'],\"wb\")    # wb = write binary\n",
    "    content = req.read()\n",
    "    f.write(content)\n",
    "    f.close()"
   ]
  }
 ],
 "metadata": {
  "kernelspec": {
   "display_name": "Django Shell-Plus",
   "language": "python",
   "name": "django_extensions"
  },
  "language_info": {
   "codemirror_mode": {
    "name": "ipython",
    "version": 3
   },
   "file_extension": ".py",
   "mimetype": "text/x-python",
   "name": "python",
   "nbconvert_exporter": "python",
   "pygments_lexer": "ipython3",
   "version": "3.5.2"
  }
 },
 "nbformat": 4,
 "nbformat_minor": 2
}
